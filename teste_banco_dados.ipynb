{
 "cells": [
  {
   "cell_type": "code",
   "execution_count": 15,
   "metadata": {},
   "outputs": [
    {
     "name": "stdout",
     "output_type": "stream",
     "text": [
      "2024-11-21 23:41:20    [INFO] - Conexão com o banco de dados estabelecida com sucesso.\n"
     ]
    }
   ],
   "source": [
    "from __init__ import log, config, path\n",
    "from utils.sqlite import SQLite\n",
    "import pandas as pd\n",
    "from datetime import datetime, timedelta\n",
    "\n",
    "path_db = r\"D:\\DevRPA\\Clientes\\Soufer\\Projetos\\RPA_Soufer_Retorno_Extrato_v2\\data\\db_rpa_soufer.db\"\n",
    "db_name = 'rpa_soufer_queue_retorno_extrato'\n",
    "\n",
    "db = SQLite(path_db=path_db,\n",
    "            db_name=db_name)"
   ]
  },
  {
   "cell_type": "code",
   "execution_count": 9,
   "metadata": {},
   "outputs": [
    {
     "name": "stdout",
     "output_type": "stream",
     "text": [
      "2024-11-21 23:39:53    [INFO] - Conexão com o banco de dados fechada com sucesso.\n"
     ]
    }
   ],
   "source": [
    "db.close_db_connection()"
   ]
  },
  {
   "cell_type": "code",
   "execution_count": 16,
   "metadata": {},
   "outputs": [
    {
     "name": "stdout",
     "output_type": "stream",
     "text": [
      "2024-11-21 23:41:22    [INFO] - Tabela 'rpa_soufer_queue_retorno_extrato' criada com sucesso.\n"
     ]
    }
   ],
   "source": [
    "db.create_table()"
   ]
  },
  {
   "cell_type": "code",
   "execution_count": 17,
   "metadata": {},
   "outputs": [],
   "source": [
    "from datetime import datetime, timedelta\n",
    "from utils import Functions\n",
    "\n",
    "def insert_database_queue():\n",
    "\n",
    "    df = pd.read_excel(path.database('Relatorio_Processamento_Base.xlsx'))\n",
    "    \n",
    "    data_atual = datetime.today()\n",
    "    \n",
    "\n",
    "    # Verificar se é segunda-feira\n",
    "    if data_atual.weekday() == 0:\n",
    "        # Subtrair dois dias da data atual para processar com a data de sábado\n",
    "        data_editada = Functions.data_formatada(time_delta=2)\n",
    "    else:\n",
    "        # Manter a data do dia atual\n",
    "        data_editada = data_atual\n",
    "        \n",
    "    # Define os padrões de substituição\n",
    "    padrao_DDMMAA = 'DDMMAA'\n",
    "    padrao_AAMMDD = 'AAMMDD'\n",
    "    padrao_DDMM = 'DDMM'\n",
    "    padrao_DDMMAAAA = 'DDMMAAAA'\n",
    "    \n",
    "    data_editada_DDMMAA = data_editada.strftime('%d%m%y')\n",
    "    data_editada_AAMMDD = data_editada.strftime('%y%m%d')\n",
    "    data_editada_DDMM = data_editada.strftime('%d%m')\n",
    "    data_editada_DDMMAAAA = data_editada.strftime('%d%m%Y')\n",
    "\n",
    "    for index, row in df.iterrows():\n",
    "        \n",
    "        nome_arquivo = str(row['Arquivo']).replace(padrao_DDMMAAAA, data_editada_DDMMAAAA)\n",
    "        nome_arquivo = nome_arquivo.replace(padrao_DDMMAA, data_editada_DDMMAA)\n",
    "        nome_arquivo = nome_arquivo.replace(padrao_AAMMDD, data_editada_AAMMDD)\n",
    "        nome_arquivo = nome_arquivo.replace(padrao_DDMM, data_editada_DDMM)\n",
    "        \n",
    "        if nome_arquivo == f'EXT_745_17155789_{data_editada_AAMMDD}_00000.RET':\n",
    "            nome_arquivo = f'EXT_745_17155789_{data_atual.strftime('%y%m%d')}_00000.RET'\n",
    "        \n",
    "        data = {\n",
    "            'data_execucao': datetime.now().strftime('%d/%m/%Y'),\n",
    "            'data_arquivo': data_editada.strftime('%d/%m/%Y'),\n",
    "            'banco': row['Banco'],\n",
    "            'empresa': row['Empresa'],\n",
    "            'formato_extrato': row['Formato do extrato'],\n",
    "            'caminho_arquivo': row['Caminho do Arquivo'],\n",
    "            'arquivo': nome_arquivo,\n",
    "            'status': 'PENDENTE'\n",
    "        }\n",
    "\n",
    "        db.insert(data)\n",
    "        \n",
    "insert_database_queue()"
   ]
  },
  {
   "cell_type": "code",
   "execution_count": 18,
   "metadata": {},
   "outputs": [
    {
     "name": "stdout",
     "output_type": "stream",
     "text": [
      "2024-11-21 23:43:00    [INFO] - Todos os dados foram removidos da fila com sucesso.\n"
     ]
    }
   ],
   "source": [
    "db.drop_table()"
   ]
  }
 ],
 "metadata": {
  "kernelspec": {
   "display_name": "Python 3",
   "language": "python",
   "name": "python3"
  },
  "language_info": {
   "codemirror_mode": {
    "name": "ipython",
    "version": 3
   },
   "file_extension": ".py",
   "mimetype": "text/x-python",
   "name": "python",
   "nbconvert_exporter": "python",
   "pygments_lexer": "ipython3",
   "version": "3.12.6"
  }
 },
 "nbformat": 4,
 "nbformat_minor": 2
}
